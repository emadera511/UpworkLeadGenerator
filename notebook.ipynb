{
 "cells": [
  {
   "cell_type": "code",
   "execution_count": 1,
   "metadata": {},
   "outputs": [
    {
     "name": "stdout",
     "output_type": "stream",
     "text": [
      "https://www.upwork.com/ab/feed/jobs/rss?paging=0-10&q=data%20analyst&sort=recency&api_params=1&securityToken=868c62fc648e2665016beca66dc2546eb419edf5d2a8d41c4bef71ae6f7e70f99c8f6a574f9e410182edf286da8d6261c24090c402fea9a97f9a7e0cc6d0349d&userUid=1734205641781354496&orgUid=1734205641781354497\n",
      "https://www.upwork.com/ab/feed/jobs/rss?paging=0-10&q=data%20Engineer&sort=recency&api_params=1&securityToken=868c62fc648e2665016beca66dc2546eb419edf5d2a8d41c4bef71ae6f7e70f99c8f6a574f9e410182edf286da8d6261c24090c402fea9a97f9a7e0cc6d0349d&userUid=1734205641781354496&orgUid=1734205641781354497\n",
      "https://www.upwork.com/ab/feed/jobs/rss?paging=0-10&q=sql%20server%20dba&sort=recency&api_params=1&securityToken=868c62fc648e2665016beca66dc2546eb419edf5d2a8d41c4bef71ae6f7e70f99c8f6a574f9e410182edf286da8d6261c24090c402fea9a97f9a7e0cc6d0349d&userUid=1734205641781354496&orgUid=1734205641781354497\n"
     ]
    }
   ],
   "source": [
    "from LeadGenerator.JobGenerator import JobFeedProcessor, send_email\n",
    "\n",
    "jobs = {\n",
    "    'Data Analysis': 'https://www.upwork.com/ab/feed/jobs/rss?paging=0-10&q=data%20analyst&sort=recency&api_params=1&securityToken=868c62fc648e2665016beca66dc2546eb419edf5d2a8d41c4bef71ae6f7e70f99c8f6a574f9e410182edf286da8d6261c24090c402fea9a97f9a7e0cc6d0349d&userUid=1734205641781354496&orgUid=1734205641781354497', \n",
    "    'Data Engineer': 'https://www.upwork.com/ab/feed/jobs/rss?paging=0-10&q=data%20Engineer&sort=recency&api_params=1&securityToken=868c62fc648e2665016beca66dc2546eb419edf5d2a8d41c4bef71ae6f7e70f99c8f6a574f9e410182edf286da8d6261c24090c402fea9a97f9a7e0cc6d0349d&userUid=1734205641781354496&orgUid=1734205641781354497',\n",
    "    'SQL Developer': 'https://www.upwork.com/ab/feed/jobs/rss?paging=0-10&q=sql%20server%20dba&sort=recency&api_params=1&securityToken=868c62fc648e2665016beca66dc2546eb419edf5d2a8d41c4bef71ae6f7e70f99c8f6a574f9e410182edf286da8d6261c24090c402fea9a97f9a7e0cc6d0349d&userUid=1734205641781354496&orgUid=1734205641781354497'\n",
    "}\n",
    "\n",
    "for job, url in jobs.items(): \n",
    "    print(url)\n",
    "    # Create an instance of JobFeedProcessor\n",
    "    job_processor = JobFeedProcessor(url)\n",
    "\n",
    "    # Fetch the RSS data\n",
    "    job_processor.fetch_rss_data()\n",
    "\n",
    "    # Process the entries and get email content\n",
    "    email_content = job_processor.process_entries()\n",
    "\n",
    "    send_email(email_content, job)\n",
    "   \n"
   ]
  }
 ],
 "metadata": {
  "kernelspec": {
   "display_name": "Python 3",
   "language": "python",
   "name": "python3"
  },
  "language_info": {
   "codemirror_mode": {
    "name": "ipython",
    "version": 3
   },
   "file_extension": ".py",
   "mimetype": "text/x-python",
   "name": "python",
   "nbconvert_exporter": "python",
   "pygments_lexer": "ipython3",
   "version": "3.8.10"
  }
 },
 "nbformat": 4,
 "nbformat_minor": 2
}
